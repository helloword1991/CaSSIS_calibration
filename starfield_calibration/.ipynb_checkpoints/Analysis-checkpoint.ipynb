{
 "cells": [
  {
   "cell_type": "code",
   "execution_count": 11,
   "metadata": {},
   "outputs": [],
   "source": [
    "import matplotlib.pyplot as plt\n",
    "import torch as th\n",
    "import numpy as np\n",
    "import math"
   ]
  },
  {
   "cell_type": "code",
   "execution_count": 12,
   "metadata": {},
   "outputs": [],
   "source": [
    "# start time of sequence\n",
    "time = ['2016-11-22T16:03:06.635000', \n",
    "        '2016-11-22T16:06:49.290000', \n",
    "        '2016-11-22T16:11:04.505000',\n",
    "        '2016-11-22T16:16:39.833000',\n",
    "        '2016-11-22T16:18:25.974000',\n",
    "        '2016-11-22T16:21:59.994000',\n",
    "        '2016-11-22T16:22:50.190000',\n",
    "        '2016-11-22T16:38:42.954000']"
   ]
  },
  {
   "cell_type": "code",
   "execution_count": 13,
   "metadata": {},
   "outputs": [],
   "source": [
    "# mars distance, [km]\n",
    "R = np.array([6419.5, 5783.5, 5193.0, 4493.9, 4291.9, 3959.6, 3896.3, 4011.3])"
   ]
  },
  {
   "cell_type": "code",
   "execution_count": 14,
   "metadata": {},
   "outputs": [],
   "source": [
    "# cassis off nadir, [deg]\n",
    "angle = np.array([9.906, 9.910, 9.914, 9.923, 9.926, 9.932, 9.846, 9.932])"
   ]
  },
  {
   "cell_type": "markdown",
   "metadata": {},
   "source": [
    "#  Before pointing adjustment"
   ]
  },
  {
   "cell_type": "code",
   "execution_count": 15,
   "metadata": {},
   "outputs": [],
   "source": [
    "# shift, [pix]\n",
    "before_nir_x = np.array([8.01, 5.56, 4.78, float('inf'), float('inf'), float('inf'), float('inf'), float('inf')])\n",
    "before_nir_y = np.array([4.03, 2.70, 2.96, float('inf'), float('inf'), float('inf'), float('inf'), float('inf')])\n",
    "before_blu_x = np.array([15.94, 11.64, 9.66, float('inf'), float('inf'), float('inf'), float('inf'), float('inf')])\n",
    "before_blu_y = np.array([7.97, 5.45, 6.00, float('inf'), float('inf'), float('inf'), float('inf'), float('inf')])\n",
    "before_pan_x = np.array([float('inf'), float('inf'), float('inf'), -4.24, -3.62, -2.45, 0.42, -1.64 ])\n",
    "before_pan_y = np.array([float('inf'), float('inf'), float('inf'), -0.73, 0.14, -0.964, 0.76, -0.43])\n"
   ]
  },
  {
   "cell_type": "markdown",
   "metadata": {},
   "source": [
    "## Errors in BLU array are twice errors in NIR"
   ]
  },
  {
   "cell_type": "code",
   "execution_count": 20,
   "metadata": {},
   "outputs": [
    {
     "name": "stdout",
     "output_type": "stream",
     "text": [
      " shift_blu_x / shift_nir_x [ 1.99001248  2.09352518  2.0209205 ]\n",
      "shift_blu_y / shift_nir_y [ 1.97766749  2.01851852  2.02702703]\n"
     ]
    }
   ],
   "source": [
    "mask1 = before_blu_x < float('inf') \n",
    "mask2 = before_pan_x < float('inf') \n",
    "print 'shift_blu_x / shift_nir_x', before_blu_x[mask1] / before_nir_x[mask1]  \n",
    "print 'shift_blu_y / shift_nir_y', before_blu_y[mask1] / before_nir_y[mask1]  "
   ]
  },
  {
   "cell_type": "markdown",
   "metadata": {},
   "source": [
    "## Error reduces linearly as the radius reduces"
   ]
  },
  {
   "cell_type": "code",
   "execution_count": 21,
   "metadata": {},
   "outputs": [
    {
     "name": "stdout",
     "output_type": "stream",
     "text": [
      "0.982244251619\n",
      "0.757546364575\n",
      "0.77272965007\n",
      "0.964124580788\n",
      "0.911674675442\n"
     ]
    }
   ],
   "source": [
    "print np.corrcoef(R[mask1], np.absolute(before_blu_x[mask1]))[0,1]\n",
    "print np.corrcoef(R[mask1], np.absolute(before_blu_y[mask1]))[0,1]\n",
    "print np.corrcoef(R[mask1], np.absolute(before_nir_y[mask1]))[0,1]\n",
    "print np.corrcoef(R[mask1], np.absolute(before_nir_x[mask1]))[0,1]\n",
    "print np.corrcoef(R[mask2], np.absolute(before_pan_x[mask2]))[0,1]"
   ]
  },
  {
   "cell_type": "markdown",
   "metadata": {},
   "source": [
    "## Conclusions:\n",
    "\n",
    "1. For small off nadir angels $ err = \\frac {\\delta \\tan(k\\times \\alpha) \\times R} {\\delta\\alpha} \\approx k \\times \\delta \\alpha \\times R $ (for NIR k=1, for BLU k=2)  \n",
    "2. Error in blu channel is almost twice of error in nir channel. This confirms that errors are due to the pointing.\n",
    "3. Absolute error in pan, blu and nir channels reduces as radius reduces, and this reduction is almost linear.\n",
    "4. Error in pan and in blu nir channels have opposite sign"
   ]
  },
  {
   "cell_type": "markdown",
   "metadata": {},
   "source": [
    "# After pointing adjustment"
   ]
  },
  {
   "cell_type": "code",
   "execution_count": 33,
   "metadata": {},
   "outputs": [],
   "source": [
    "# shift, [pix]\n",
    "after_nir_x = np.array([7.29, 5.06, 4.32, float('inf'), float('inf'), float('inf'), float('inf'), float('inf')])\n",
    "after_nir_y = np.array([0.96, 0.34, 0.85, float('inf'), float('inf'), float('inf'), float('inf'), float('inf')])\n",
    "after_blu_x = np.array([14.55, 10.61, 8.77, float('inf'), float('inf'), float('inf'), float('inf'), float('inf')])\n",
    "after_blu_y = np.array([1.85, 0.52, 1.72, float('inf'), float('inf'), float('inf'), float('inf'), float('inf')])\n",
    "after_pan_x = np.array([float('inf'), float('inf'), float('inf'), -3.79, -3.19, -2.29, 0.18, -1.49 ])\n",
    "after_pan_y = np.array([float('inf'), float('inf'), float('inf'), 1.03, 1.90, 0.61, -0.58, 0.72])\n"
   ]
  },
  {
   "cell_type": "markdown",
   "metadata": {},
   "source": [
    "## Reduction in shift"
   ]
  },
  {
   "cell_type": "code",
   "execution_count": 34,
   "metadata": {},
   "outputs": [
    {
     "name": "stdout",
     "output_type": "stream",
     "text": [
      "NIR:\n",
      "average x shift AFTER ADJUSTMENT 5.55666666667\n",
      "average x shift BEFORE ADJUSTMENT 6.11666666667\n",
      "average y shift AFTER ADJUSTMENT 0.716666666667\n",
      "average y shift BEFORE ADJUSTMENT 3.23\n",
      "----------------------------------------\n",
      "BLU:\n",
      "average x shift AFTER ADJUSTMENT 11.31\n",
      "average x shift BEFORE ADJUSTMENT 12.4133333333\n",
      "average y shift AFTER ADJUSTMENT 1.36333333333\n",
      "average y shift BEFORE ADJUSTMENT 6.47333333333\n",
      "----------------------------------------\n",
      "BLU:\n",
      "average x shift AFTER ADJUSTMENT -2.116\n",
      "average x shift BEFORE ADJUSTMENT -2.306\n",
      "average y shift AFTER ADJUSTMENT 0.736\n",
      "average y shift BEFORE ADJUSTMENT -0.2448\n"
     ]
    }
   ],
   "source": [
    "print 'NIR:'\n",
    "print 'average x shift AFTER ADJUSTMENT', after_nir_x[after_nir_x!=float('inf')].mean() \n",
    "print 'average x shift BEFORE ADJUSTMENT', before_nir_x[before_nir_x!=float('inf')].mean()\n",
    "print 'average y shift AFTER ADJUSTMENT', after_nir_y[after_nir_y!=float('inf')].mean() \n",
    "print 'average y shift BEFORE ADJUSTMENT', before_nir_y[before_nir_y!=float('inf')].mean()\n",
    "print '----------------------------------------'\n",
    "print 'BLU:'\n",
    "print 'average x shift AFTER ADJUSTMENT', after_blu_x[after_blu_x!=float('inf')].mean() \n",
    "print 'average x shift BEFORE ADJUSTMENT', before_blu_x[before_blu_x!=float('inf')].mean()\n",
    "print 'average y shift AFTER ADJUSTMENT', after_blu_y[after_blu_y!=float('inf')].mean() \n",
    "print 'average y shift BEFORE ADJUSTMENT', before_blu_y[before_blu_y!=float('inf')].mean()\n",
    "print '----------------------------------------'\n",
    "print 'BLU:'\n",
    "print 'average x shift AFTER ADJUSTMENT', after_pan_x[after_pan_x!=float('inf')].mean() \n",
    "print 'average x shift BEFORE ADJUSTMENT', before_pan_x[before_pan_x!=float('inf')].mean()\n",
    "print 'average y shift AFTER ADJUSTMENT', after_pan_y[after_pan_y!=float('inf')].mean() \n",
    "print 'average y shift BEFORE ADJUSTMENT', before_pan_y[before_pan_y!=float('inf')].mean()\n",
    "\n",
    "\n"
   ]
  },
  {
   "cell_type": "markdown",
   "metadata": {},
   "source": [
    "## Lineriality of shift with respect to radius"
   ]
  },
  {
   "cell_type": "code",
   "execution_count": 37,
   "metadata": {},
   "outputs": [
    {
     "name": "stdout",
     "output_type": "stream",
     "text": [
      "0.982871596327\n",
      "0.109956940275\n",
      "0.187337185743\n",
      "0.966256955291\n",
      "0.888188443938\n"
     ]
    }
   ],
   "source": [
    "print np.corrcoef(R[mask1], np.absolute(after_blu_x[mask1]))[0,1]\n",
    "print np.corrcoef(R[mask1], np.absolute(after_blu_y[mask1]))[0,1]\n",
    "print np.corrcoef(R[mask1], np.absolute(after_nir_y[mask1]))[0,1]\n",
    "print np.corrcoef(R[mask1], np.absolute(after_nir_x[mask1]))[0,1]\n",
    "print np.corrcoef(R[mask2], np.absolute(after_pan_x[mask2]))[0,1]"
   ]
  },
  {
   "cell_type": "markdown",
   "metadata": {},
   "source": [
    "## Conclusions:\n",
    "1. Adjustment consistently reduced shift between channels, especially it's along track part (x).\n",
    "2. Interestingly, after adjustment y component of the shift does not depend liearly on R any more. This is suggests that it is random.\n",
    "3. We should use more data and we should estimate precision of rotation axis as well."
   ]
  },
  {
   "cell_type": "code",
   "execution_count": null,
   "metadata": {},
   "outputs": [],
   "source": []
  },
  {
   "cell_type": "code",
   "execution_count": null,
   "metadata": {},
   "outputs": [],
   "source": []
  }
 ],
 "metadata": {
  "kernelspec": {
   "display_name": "Python 2",
   "language": "python",
   "name": "python2"
  },
  "language_info": {
   "codemirror_mode": {
    "name": "ipython",
    "version": 2
   },
   "file_extension": ".py",
   "mimetype": "text/x-python",
   "name": "python",
   "nbconvert_exporter": "python",
   "pygments_lexer": "ipython2",
   "version": "2.7.13"
  }
 },
 "nbformat": 4,
 "nbformat_minor": 2
}
